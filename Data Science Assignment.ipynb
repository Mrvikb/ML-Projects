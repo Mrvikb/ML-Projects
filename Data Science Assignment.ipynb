{
 "cells": [
  {
   "cell_type": "code",
   "execution_count": 2,
   "metadata": {},
   "outputs": [],
   "source": [
    "#Importing the Required Packages\n",
    "import pandas as pd\n",
    "import numpy as np\n",
    "import matplotlib.pyplot as plt\n",
    "plt.rcParams['figure.figsize'] = (12.0, 9.0)\n"
   ]
  },
  {
   "cell_type": "code",
   "execution_count": 3,
   "metadata": {},
   "outputs": [],
   "source": [
    "#Preprosessing the Data\n",
    "dataX = pd.read_csv(\"C:/Vinothkumar/BiTS/2nd Sem/Intro to Data Science/Assignment/dataforassignment/linearX.csv\")\n",
    "dataY = pd.read_csv(\"C:/Vinothkumar/BiTS/2nd Sem/Intro to Data Science/Assignment/dataforassignment/linearY.csv\")"
   ]
  },
  {
   "cell_type": "code",
   "execution_count": 4,
   "metadata": {},
   "outputs": [
    {
     "name": "stdout",
     "output_type": "stream",
     "text": [
      "     9.1\n",
      "0    8.0\n",
      "1    9.1\n",
      "2    8.4\n",
      "3    6.9\n",
      "4    7.7\n",
      "..   ...\n",
      "94   7.8\n",
      "95  10.2\n",
      "96   6.1\n",
      "97   7.3\n",
      "98   7.3\n",
      "\n",
      "[99 rows x 1 columns]\n",
      "    0.99523\n",
      "0   0.99007\n",
      "1   0.99769\n",
      "2   0.99386\n",
      "3   0.99508\n",
      "4   0.99630\n",
      "..      ...\n",
      "94  0.99620\n",
      "95  0.99760\n",
      "96  0.99464\n",
      "97  0.99830\n",
      "98  0.99670\n",
      "\n",
      "[99 rows x 1 columns]\n"
     ]
    }
   ],
   "source": [
    "print(dataX)\n",
    "print(dataY)"
   ]
  },
  {
   "cell_type": "code",
   "execution_count": 5,
   "metadata": {},
   "outputs": [
    {
     "data": {
      "image/png": "[encoded data removed]",
      "text/plain": [
       "<Figure size 864x648 with 1 Axes>"
      ]
     },
     "metadata": {
      "needs_background": "light"
     },
     "output_type": "display_data"
    }
   ],
   "source": [
    "X = dataX.iloc[:, 0]\n",
    "Y = dataY.iloc[:, 0]\n",
    "plt.scatter(X,Y)\n",
    "plt.show()"
   ]
  },
  {
   "cell_type": "code",
   "execution_count": 6,
   "metadata": {},
   "outputs": [],
   "source": [
    "# Building the model\n",
    "def normalize(x):\n",
    "    mu = np.mean(x)\n",
    "    std = np.std(x)\n",
    "    \n",
    "    apply = np.vectorize(lambda z: (z - mu) / std)\n",
    "    return apply(x)\n",
    "\n",
    "def read_data(xf, yf, delimiter=','):\n",
    "    x = np.loadtxt(xf, delimiter=delimiter)\n",
    "\n",
    "    try:\n",
    "        m, n = x.shape[0], x.shape[1]\n",
    "    except IndexError:\n",
    "        m, n = (x.shape[0], 1)\n",
    "\n",
    "    # The intercept term\n",
    "    x0 = np.ones(m)\n",
    "\n",
    "    # Normalization\n",
    "    x = normalize(x)\n",
    "\n",
    "    X = np.c_[x0, x]\n",
    "    y = np.loadtxt(yf)\n",
    "    \n",
    "    return X, y, m, n\n",
    "\n",
    "def plot_hypothesis(X, y, theta):\n",
    "    plt.plot(X[:,1], y, 'rx')\n",
    "    plt.plot(X[:,1], list(map(lambda x: theta @ x, X)), 'b')"
   ]
  },
  {
   "cell_type": "code",
   "execution_count": 23,
   "metadata": {},
   "outputs": [
    {
     "ename": "ValueError",
     "evalue": "not enough values to unpack (expected 4, got 2)",
     "output_type": "error",
     "traceback": [
      "\u001b[1;31m---------------------------------------------------------------------------\u001b[0m",
      "\u001b[1;31mValueError\u001b[0m                                Traceback (most recent call last)",
      "\u001b[1;32m<ipython-input-23-8e6283903d40>\u001b[0m in \u001b[0;36m<module>\u001b[1;34m\u001b[0m\n\u001b[0;32m      1\u001b[0m \u001b[1;31m##X, y, m, n = read_data(\"C:/Vinothkumar/BiTS/2nd Sem/Intro to Data Science/Assignment/dataforassignment/linearX.csv\", \"C:/Vinothkumar/BiTS/2nd Sem/Intro to Data Science/Assignment/dataforassignment/linearY.csv\")\u001b[0m\u001b[1;33m\u001b[0m\u001b[1;33m\u001b[0m\u001b[1;33m\u001b[0m\u001b[0m\n\u001b[0;32m      2\u001b[0m \u001b[1;33m\u001b[0m\u001b[0m\n\u001b[1;32m----> 3\u001b[1;33m \u001b[0mX\u001b[0m\u001b[1;33m,\u001b[0m \u001b[0my\u001b[0m\u001b[1;33m,\u001b[0m \u001b[0mm\u001b[0m\u001b[1;33m,\u001b[0m \u001b[0mn\u001b[0m \u001b[1;33m=\u001b[0m \u001b[1;33m(\u001b[0m\u001b[0mdataX\u001b[0m\u001b[1;33m,\u001b[0m\u001b[0mdataY\u001b[0m\u001b[1;33m)\u001b[0m\u001b[1;33m\u001b[0m\u001b[1;33m\u001b[0m\u001b[0m\n\u001b[0m\u001b[0;32m      4\u001b[0m \u001b[1;32mdef\u001b[0m \u001b[0mJ\u001b[0m\u001b[1;33m(\u001b[0m\u001b[0mtheta\u001b[0m\u001b[1;33m)\u001b[0m\u001b[1;33m:\u001b[0m\u001b[1;33m\u001b[0m\u001b[1;33m\u001b[0m\u001b[0m\n\u001b[0;32m      5\u001b[0m     \u001b[1;32mreturn\u001b[0m \u001b[0mnp\u001b[0m\u001b[1;33m.\u001b[0m\u001b[0msum\u001b[0m\u001b[1;33m(\u001b[0m\u001b[1;33m(\u001b[0m\u001b[0mX\u001b[0m \u001b[1;33m@\u001b[0m \u001b[0mtheta\u001b[0m \u001b[1;33m-\u001b[0m \u001b[0my\u001b[0m\u001b[1;33m)\u001b[0m \u001b[1;33m**\u001b[0m \u001b[1;36m2\u001b[0m\u001b[1;33m)\u001b[0m \u001b[1;33m/\u001b[0m \u001b[1;33m(\u001b[0m\u001b[1;36m2\u001b[0m\u001b[1;33m)\u001b[0m\u001b[1;33m\u001b[0m\u001b[1;33m\u001b[0m\u001b[0m\n",
      "\u001b[1;31mValueError\u001b[0m: not enough values to unpack (expected 4, got 2)"
     ]
    }
   ],
   "source": [
    "##X, y, m, n = read_data(\"C:/Vinothkumar/BiTS/2nd Sem/Intro to Data Science/Assignment/dataforassignment/linearX.csv\", \"C:/Vinothkumar/BiTS/2nd Sem/Intro to Data Science/Assignment/dataforassignment/linearY.csv\")\n",
    "\n",
    "X, y, m, n = (dataX,dataY)\n",
    "def J(theta):\n",
    "    return np.sum((X @ theta - y) ** 2) / (2)\n",
    "\n",
    "# Store points to plot later\n",
    "error_plot_points = []\n",
    "\n",
    "# Theta - the prameters we are looking for\n",
    "# Intialized to a vector of all zeros\n",
    "theta = np.zeros(n+1)\n",
    "\n",
    "# The learning rate\n",
    "eta = 0.001\n",
    "\n",
    "# Count the number of iterations it took for convergence\n",
    "iters = 0\n",
    "\n",
    "# Error at zero theta\n",
    "Jn = J(theta)\n",
    "converged = False\n",
    "\n",
    "print(\"Learning Rate: \", eta)\n",
    "print(\"Initial Error: \", Jn)\n",
    "\n",
    "while (not converged):\n",
    "# for _ in range(10):\n",
    "    theta = theta - eta * (X @ theta - y) @ X\n",
    "\n",
    "    # Calculate new error and check convergence\n",
    "    Jp = Jn\n",
    "    Jn = J(theta)\n",
    "\n",
    "    if (iters % 5) == 0:\n",
    "        error_plot_points.append((theta, Jn))\n",
    "    \n",
    "    if Jp - Jn < 10 ** -15:\n",
    "        converged = True\n",
    "        \n",
    "    iters += 1\n",
    "     \n",
    "\n",
    "print(\"Final Error: \", Jn)\n",
    "print(\"Number of iterations: \", iters)\n",
    "print(\"Parameters: \", theta)\n"
   ]
  },
  {
   "cell_type": "markdown",
   "metadata": {},
   "source": [
    "Plotting the Hypothesis"
   ]
  },
  {
   "cell_type": "code",
   "execution_count": 22,
   "metadata": {},
   "outputs": [
    {
     "name": "stdout",
     "output_type": "stream",
     "text": [
      "[0.99662009 0.0013402 ]\n"
     ]
    },
    {
     "data": {
      "image/png": "[encoded data removed]",
      "text/plain": [
       "<Figure size 864x648 with 1 Axes>"
      ]
     },
     "metadata": {
      "needs_background": "light"
     },
     "output_type": "display_data"
    }
   ],
   "source": [
    "print(theta)\n",
    "plot_hypothesis(X, y, theta)"
   ]
  },
  {
   "cell_type": "code",
   "execution_count": null,
   "metadata": {},
   "outputs": [],
   "source": []
  }
 ],
 "metadata": {
  "kernelspec": {
   "display_name": "Python 3",
   "language": "python",
   "name": "python3"
  },
  "language_info": {
   "codemirror_mode": {
    "name": "ipython",
    "version": 3
   },
   "file_extension": ".py",
   "mimetype": "text/x-python",
   "name": "python",
   "nbconvert_exporter": "python",
   "pygments_lexer": "ipython3",
   "version": "3.8.5"
  }
 },
 "nbformat": 4,
 "nbformat_minor": 4
}
